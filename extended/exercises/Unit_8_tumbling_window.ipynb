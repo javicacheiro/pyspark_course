{
 "cells": [
  {
   "cell_type": "markdown",
   "metadata": {},
   "source": [
    "# Tumbling Window"
   ]
  },
  {
   "cell_type": "markdown",
   "metadata": {},
   "source": [
    "## Create topic"
   ]
  },
  {
   "cell_type": "markdown",
   "metadata": {},
   "source": [
    "Assuming we are using the `curso800` account, let's start by creating a `tumbling.curso800` topic in kafka:\n",
    "```bash\n",
    "module load kafka\n",
    "\n",
    "export BROKER=\"<broker_ip_address>:9092\"\n",
    "export TOPIC=\"tumbling.curso800\"\n",
    "\n",
    "kafka-topics.sh --bootstrap-server $BROKER --topic $TOPIC --create --partitions 1 --replication-factor 1\n",
    "```"
   ]
  },
  {
   "cell_type": "markdown",
   "metadata": {},
   "source": [
    "## Review the code and launch the consumer app"
   ]
  },
  {
   "cell_type": "markdown",
   "metadata": {},
   "source": [
    "Review the code of the consumer app: [Unit_8_tumbling_window.py](Unit_8_tumbling_window.py)"
   ]
  },
  {
   "cell_type": "markdown",
   "metadata": {},
   "source": [
    "Launch the app:\n",
    "\n",
    "- Option 1: Using Spark 3.4.3:\n",
    "```bash\n",
    "module load spark/3.4.3\n",
    "export BROKER=\"<broker_ip_address>:9092\"\n",
    "export TOPIC=\"tumbling.curso800\"\n",
    "spark-submit --conf spark.dynamicAllocation.enabled=false --num-executors 2 --packages org.apache.spark:spark-sql-kafka-0-10_2.12:3.4.3 Unit_8_tumbling_window.py\n",
    "```\n",
    "\n",
    "\n",
    "- Option 2: Using Spark 2.4.0:\n",
    "```bash\n",
    "export BROKER=\"<broker_ip_address>:9092\"\n",
    "export TOPIC=\"tumbling.curso800\"\n",
    "spark-submit --conf spark.dynamicAllocation.enabled=false --num-executors 2 --packages org.apache.spark:spark-sql-kafka-0-10_2.11:2.4.0 Unit_8_tumbling_window.py\n",
    "```"
   ]
  },
  {
   "cell_type": "markdown",
   "metadata": {},
   "source": [
    "## Start the producer"
   ]
  },
  {
   "cell_type": "markdown",
   "metadata": {},
   "source": [
    "We will use a kafka console producer:\n",
    "```bash\n",
    "module load kafka\n",
    "export BROKER=\"<broker_ip_address>:9092\"\n",
    "export TOPIC=\"tumbling.curso800\"\n",
    "kafka-console-producer.sh --bootstrap-server $BROKER --topic $TOPIC\n",
    "```"
   ]
  },
  {
   "cell_type": "markdown",
   "metadata": {},
   "source": [
    "## Send data and see how windows are updated"
   ]
  },
  {
   "cell_type": "markdown",
   "metadata": {},
   "source": [
    "Start sending orders and see how windows are created:\n",
    "```\n",
    "{\"order_id\": 1, \"created_at\": \"2022-09-01 10:01:00\"}\n",
    "{\"order_id\": 3, \"created_at\": \"2022-09-01 10:11:00\"}\n",
    "{\"order_id\": 4, \"created_at\": \"2022-09-01 10:12:00\"}\n",
    "{\"order_id\": 6, \"created_at\": \"2022-09-01 10:22:00\"}\n",
    "{\"order_id\": 7, \"created_at\": \"2022-09-01 10:31:00\"}\n",
    "{\"order_id\": 8, \"created_at\": \"2022-09-01 10:32:00\"}\n",
    "```\n",
    "\n",
    "Now let's send some late arriving orders to see how existing windows are updated:\n",
    "```\n",
    "{\"order_id\": 2, \"created_at\": \"2022-09-01 10:02:00\"}\n",
    "{\"order_id\": 5, \"created_at\": \"2022-09-01 10:21:00\"}\n",
    "```\n"
   ]
  },
  {
   "cell_type": "markdown",
   "metadata": {},
   "source": [
    "The consumer will show the windows that needed to be updated at each trigger time.\n",
    "\n",
    "You can try to change the output mode from \"update\" to \"complete\" and then you will see all windows."
   ]
  }
 ],
 "metadata": {
  "kernelspec": {
   "display_name": "Python 2",
   "language": "python",
   "name": "python2"
  },
  "language_info": {
   "codemirror_mode": {
    "name": "ipython",
    "version": 2
   },
   "file_extension": ".py",
   "mimetype": "text/x-python",
   "name": "python",
   "nbconvert_exporter": "python",
   "pygments_lexer": "ipython2",
   "version": "2.7.15"
  }
 },
 "nbformat": 4,
 "nbformat_minor": 2
}
