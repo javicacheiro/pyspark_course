{
 "cells": [
  {
   "cell_type": "markdown",
   "metadata": {},
   "source": [
    "# Using Kafka"
   ]
  },
  {
   "cell_type": "markdown",
   "metadata": {},
   "source": [
    "\n",
    "\n",
    "## Review the code\n",
    "Review the code of the app: [Unit_8_kafka.py](exercises/Unit_8_kafka.py)\n",
    "\n",
    "## Create the topic\n",
    "Assuming we are using the `curso800` account, let's start by creating a `lab8.curso800` topic in kafka:\n",
    "```bash\n",
    "module load kafka\n",
    "export BROKER=\"<broker_ip_address>:9092\"\n",
    "export TOPIC=\"lab8.curso800\"\n",
    "\n",
    "kafka-topics.sh --bootstrap-server $BROKER --topic $TOPIC --create --partitions 1 --replication-factor 1\n",
    "```\n",
    "## Submit the app in local mode\n",
    "\n",
    "Submit in local mode using spark 3.4.3\n",
    "\n",
    "```bash\n",
    "export BROKER=\"<broker_ip_address>:9092\"\n",
    "export TOPIC=\"lab8.cursoXXX\"\n",
    "module load spark/3.4.3\n",
    "spark-submit --master local[2] --packages org.apache.spark:spark-sql-kafka-0-10_2.12:3.4.3 Unit_8_kafka.py\n",
    "```\n",
    "    \n",
    "## Publish some records\n",
    "Publish some records using the kafka console producer\n",
    "```bash\n",
    "module load kafka\n",
    "export BROKER=\"<broker_ip_address>:9092\"\n",
    "export TOPIC=\"lab8.curso800\"\n",
    "kafka-console-producer.sh --bootstrap-server $BROKER --topic $TOPIC --property parse.key=true --property key.separator=:\n",
    "```"
   ]
  }
 ],
 "metadata": {
  "kernelspec": {
   "display_name": "Python 2",
   "language": "python",
   "name": "python2"
  },
  "language_info": {
   "codemirror_mode": {
    "name": "ipython",
    "version": 2
   },
   "file_extension": ".py",
   "mimetype": "text/x-python",
   "name": "python",
   "nbconvert_exporter": "python",
   "pygments_lexer": "ipython2",
   "version": "2.7.15"
  }
 },
 "nbformat": 4,
 "nbformat_minor": 2
}
