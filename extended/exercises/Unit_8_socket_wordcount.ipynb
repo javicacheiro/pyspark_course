{
 "cells": [
  {
   "cell_type": "markdown",
   "metadata": {},
   "source": [
    "# Socket WordCount"
   ]
  },
  {
   "cell_type": "markdown",
   "metadata": {},
   "source": [
    "In this exercise we will see how to implement the popular WordCount application against a streaming data source coming from a TCP socket."
   ]
  },
  {
   "cell_type": "markdown",
   "metadata": {},
   "source": [
    "## Step 1: Review the code\n",
    "Start by reviewing the code of the app in [exercises/Unit_8_socket_wordcount.py](Unit_8_socket_wordcount.py)\n",
    "\n",
    "## Step 2: Create a listening TCP socket\n",
    "You can create a listening TCP socket using netcat:\n",
    "\n",
    "    nc -l -k <port>\n",
    "    \n",
    "where <port> is the port where you want netcat to listen.\n",
    "\n",
    "You have to select a port that is not in use, so to avoid conflicts use the following:\n",
    "    \n",
    "    port = 10000 + <account_number>\n",
    "    \n",
    "where *account_number* is your account number, eg. if I am using curso801 I will use the port 10801, so I will run:\n",
    "    \n",
    "    nc -l -k 10801\n",
    "    \n",
    "Once that you know which port to use run the following commands:\n",
    "    \n",
    "    hostname\n",
    "    nc -l -k <port>\n",
    "    \n",
    "## Step 3: Run the app\n",
    "Using the values of *hostname* and *port* from the previous commands to run the app:\n",
    "    \n",
    "    spark-submit --conf spark.dynamicAllocation.enabled=false --num-executors 2 Unit_8_socket_wordcount.py <hostname> <port>\n",
    "    \n",
    "Verify that it starts running."
   ]
  },
  {
   "cell_type": "markdown",
   "metadata": {},
   "source": [
    "## Step 4: Write down your expectations for each output mode\n",
    "Suppose the following input lines are given to the app:\n",
    "```\n",
    "a b\n",
    "c\n",
    "a c\n",
    "```\n",
    "\n",
    "Before running the app, fill the following table with what you would expect as output depending on the output mode:\n",
    "\n",
    "| micro-batch | complete | update | append |\n",
    "|-------------|----------|--------|--------|\n",
    "| 1           |     -    |   -    |    -   |\n",
    "| 2           |     -    |   -    |    -   |\n",
    "| 3           |     -    |   -    |    -   |\n"
   ]
  },
  {
   "cell_type": "markdown",
   "metadata": {},
   "source": [
    "## Step 5: Run the app for each of the output modes\n",
    "Now run the app changing the output mode and providing the above input.\n",
    "\n",
    "Enter the lines one by one and wait for each batch to complete before entering the next line.\n",
    "\n",
    "Then edit the app and change the output mode to \"update\".\n",
    "\n",
    "Finally change the output mode to \"append\". What happens in this case?\n",
    "\n",
    "Verify your expectations from the table above."
   ]
  },
  {
   "cell_type": "markdown",
   "metadata": {},
   "source": [
    "## Step 6: Look at the Spark UI (optional)"
   ]
  },
  {
   "cell_type": "markdown",
   "metadata": {},
   "source": [
    "Connect to the Spark UI and see how the stream is incrementally processed in a series of small jobs."
   ]
  }
 ],
 "metadata": {
  "kernelspec": {
   "display_name": "Python 2",
   "language": "python",
   "name": "python2"
  },
  "language_info": {
   "codemirror_mode": {
    "name": "ipython",
    "version": 2
   },
   "file_extension": ".py",
   "mimetype": "text/x-python",
   "name": "python",
   "nbconvert_exporter": "python",
   "pygments_lexer": "ipython2",
   "version": "2.7.15"
  }
 },
 "nbformat": 4,
 "nbformat_minor": 4
}
